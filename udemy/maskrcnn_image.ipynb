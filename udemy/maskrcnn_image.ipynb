{
 "cells": [
  {
   "cell_type": "code",
   "execution_count": null,
   "id": "b5bf69b4",
   "metadata": {},
   "outputs": [],
   "source": [
    "import cv2\n",
    "from display import model, display_instances, class_names"
   ]
  },
  {
   "cell_type": "code",
   "execution_count": null,
   "id": "205ab35b",
   "metadata": {},
   "outputs": [],
   "source": [
    "image = cv2.imread(\"test.jpg\")\n",
    "cv2.imshow(\"Test\", image)\n",
    "cv2.waitKey(0)"
   ]
  },
  {
   "cell_type": "code",
   "execution_count": null,
   "id": "6e05477a",
   "metadata": {},
   "outputs": [],
   "source": [
    "results = model.detect([image], verbose=1)\n",
    "r = results[0]\n",
    "masked_image = display_instances(image, r[\"rois\"], r[\"masks\"],r[\"class_ids\"],class_names,r[\"scores\"])"
   ]
  },
  {
   "cell_type": "code",
   "execution_count": null,
   "id": "26992cdd",
   "metadata": {},
   "outputs": [],
   "source": [
    "cv2.imshow(\"Masked Image\", masked_image)\n",
    "cv2.waitKey(0)"
   ]
  }
 ],
 "metadata": {
  "kernelspec": {
   "display_name": "Python 3",
   "language": "python",
   "name": "python3"
  },
  "language_info": {
   "codemirror_mode": {
    "name": "ipython",
    "version": 3
   },
   "file_extension": ".py",
   "mimetype": "text/x-python",
   "name": "python",
   "nbconvert_exporter": "python",
   "pygments_lexer": "ipython3",
   "version": "3.6.12"
  }
 },
 "nbformat": 4,
 "nbformat_minor": 5
}
